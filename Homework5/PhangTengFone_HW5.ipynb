{
  "nbformat": 4,
  "nbformat_minor": 0,
  "metadata": {
    "colab": {
      "name": "AI homework PT1 - torch intro",
      "provenance": [],
      "collapsed_sections": []
    },
    "kernelspec": {
      "name": "python3",
      "display_name": "Python 3"
    },
    "accelerator": "GPU"
  },
  "cells": [
    {
      "cell_type": "markdown",
      "metadata": {
        "id": "rUbEmuvZJxlI"
      },
      "source": [
        "# PyTorch - homework 1\n"
      ]
    },
    {
      "cell_type": "markdown",
      "metadata": {
        "id": "efS07mO7J6AR"
      },
      "source": [
        "Please run the whole notebook with your code and submit the `.ipynb` file that includes your answers. "
      ]
    },
    {
      "cell_type": "code",
      "metadata": {
        "id": "mJpzFaX0J6Zz",
        "colab": {
          "base_uri": "https://localhost:8080/"
        },
        "outputId": "988664b0-f5d1-449a-eabf-3d59b0ea5360"
      },
      "source": [
        "from termcolor import colored\n",
        "\n",
        "student_number=\"1003296\"\n",
        "student_name=\"Phang Teng Fone\"\n",
        "\n",
        "print(colored(\"Homework by \"  + student_name + ', number: ' + student_number,'red'))"
      ],
      "execution_count": 1,
      "outputs": [
        {
          "output_type": "stream",
          "text": [
            "\u001b[31mHomework by Phang Teng Fone, number: 1003296\u001b[0m\n"
          ],
          "name": "stdout"
        }
      ]
    },
    {
      "cell_type": "markdown",
      "metadata": {
        "id": "-xDkwBg8LKQ_"
      },
      "source": [
        " ## Question 1 -- matrix multiplication\n",
        "\n",
        "Implement the following mathematical operation on both the CPU and GPU (use Google Colab or another cloud service if you don't have a GPU in your computer). Print:\n",
        "\n",
        "a) which type of GPU card you have and \n",
        "\n",
        "b) show the computation time for both CPU and GPU (using PyTorch). \n",
        "\n",
        "c) How much % fast is the GPU? \n",
        "\n",
        " The operation to implement is the dot product $C = B * A^T$\n",
        "\n",
        " whereby $A$ is a random matrix of size $20,000 \\times 1000$ and $B$ is a random matrix of size $2000 \\times 1000$. In addition to the required information asked above:\n",
        " \n",
        " d) please also print the resulting two $C$ matrices (they should be the same btw). \n",
        " \n",
        "\n"
      ]
    },
    {
      "cell_type": "code",
      "metadata": {
        "id": "3hKj-mWrY1fq"
      },
      "source": [
        "import torch\n",
        "import numpy as np\n",
        "import time"
      ],
      "execution_count": 2,
      "outputs": []
    },
    {
      "cell_type": "markdown",
      "metadata": {
        "id": "gbiA5Zl9YRua"
      },
      "source": [
        "## 1a"
      ]
    },
    {
      "cell_type": "code",
      "metadata": {
        "id": "BINvhm-PLKak",
        "colab": {
          "base_uri": "https://localhost:8080/"
        },
        "outputId": "aa80e069-11f8-4c3c-e890-1ac65dec1ee9"
      },
      "source": [
        "if torch.cuda.is_available():\n",
        "    print(torch.cuda.get_device_name(0))\n",
        "else:\n",
        "    print(\"No GPU, Please Dont Run The Rest Of the Codes\")"
      ],
      "execution_count": 3,
      "outputs": [
        {
          "output_type": "stream",
          "text": [
            "Tesla T4\n"
          ],
          "name": "stdout"
        }
      ]
    },
    {
      "cell_type": "markdown",
      "metadata": {
        "id": "e8EIoGm7YiRJ"
      },
      "source": [
        "## 1b"
      ]
    },
    {
      "cell_type": "code",
      "metadata": {
        "colab": {
          "base_uri": "https://localhost:8080/"
        },
        "id": "SV3RhslXYRAt",
        "outputId": "62ce7c9a-862f-44a6-88e1-7075119bd74f"
      },
      "source": [
        "A = torch.randn(20000, 1000)\n",
        "B = torch.randn(2000,1000)\n",
        "A_GPU = A.cuda()\n",
        "B_GPU = B.cuda()\n",
        "\n",
        "# Using GPU\n",
        "timer = time.time()\n",
        "C_GPU = torch.matmul(B_GPU, torch.t(A_GPU))\n",
        "GPU_time = time.time() - timer\n",
        "print(f\"Time taken for GPU: {GPU_time}s\\n\")\n",
        "print(C_GPU)\n",
        "\n",
        "\n",
        "# Using CPU\n",
        "timer = time.time()\n",
        "C_CPU = torch.matmul(B, torch.t(A))\n",
        "CPU_time = time.time() - timer\n",
        "print(f\"Time taken for CPU: {CPU_time}s\")\n",
        "print(C_CPU)"
      ],
      "execution_count": 4,
      "outputs": [
        {
          "output_type": "stream",
          "text": [
            "Time taken for GPU: 0.04642224311828613s\n",
            "\n",
            "tensor([[-25.7679,  21.4220,  18.2725,  ..., -41.6681,  51.2597, -29.4324],\n",
            "        [-14.4533, -22.5586,  28.4398,  ..., -24.4492,  13.7066,  -6.7762],\n",
            "        [ 37.2378,  -3.2911,  14.7337,  ...,  13.8257,  -3.6179,  14.4139],\n",
            "        ...,\n",
            "        [ 35.0721, -14.6565,  44.9545,  ..., -23.7133, -60.9498, -21.7327],\n",
            "        [-26.0620,  -0.7874,   9.0564,  ...,  10.5281,   8.5398,  -3.3785],\n",
            "        [ 18.9419, -12.4708,   0.5580,  ...,  30.8842, -27.0412,  33.7688]],\n",
            "       device='cuda:0')\n",
            "Time taken for CPU: 1.2675578594207764s\n",
            "tensor([[-25.7679,  21.4220,  18.2725,  ..., -41.6681,  51.2597, -29.4324],\n",
            "        [-14.4533, -22.5586,  28.4398,  ..., -24.4492,  13.7066,  -6.7762],\n",
            "        [ 37.2378,  -3.2910,  14.7337,  ...,  13.8257,  -3.6179,  14.4140],\n",
            "        ...,\n",
            "        [ 35.0721, -14.6565,  44.9544,  ..., -23.7133, -60.9498, -21.7327],\n",
            "        [-26.0620,  -0.7874,   9.0564,  ...,  10.5281,   8.5398,  -3.3785],\n",
            "        [ 18.9419, -12.4708,   0.5580,  ...,  30.8841, -27.0412,  33.7688]])\n"
          ],
          "name": "stdout"
        }
      ]
    },
    {
      "cell_type": "markdown",
      "metadata": {
        "id": "viNbEx43Yj2O"
      },
      "source": [
        "## 1c"
      ]
    },
    {
      "cell_type": "code",
      "metadata": {
        "colab": {
          "base_uri": "https://localhost:8080/"
        },
        "id": "HYgM7idGYlIv",
        "outputId": "b488cb42-b076-47bb-db43-d567690cb0d0"
      },
      "source": [
        "percentTime = (CPU_time/GPU_time) * 100\n",
        "print(f\"The GPU is faster as compared to the CPU by {percentTime}%\")"
      ],
      "execution_count": 5,
      "outputs": [
        {
          "output_type": "stream",
          "text": [
            "The GPU is faster as compared to the CPU by 2730.4967926495437%\n"
          ],
          "name": "stdout"
        }
      ]
    },
    {
      "cell_type": "markdown",
      "metadata": {
        "id": "4i9123DwYlZw"
      },
      "source": [
        "## 1d"
      ]
    },
    {
      "cell_type": "code",
      "metadata": {
        "colab": {
          "base_uri": "https://localhost:8080/"
        },
        "id": "QAS-bOA0Ym17",
        "outputId": "afbe8142-e53b-42f2-e90c-518b2fee4259"
      },
      "source": [
        "print(f\"GPU Matrix Output: {C_GPU}\\n\")\n",
        "print(f\"CPU Matrix Output: {C_CPU}\\n\")"
      ],
      "execution_count": 6,
      "outputs": [
        {
          "output_type": "stream",
          "text": [
            "GPU Matrix Output: tensor([[-25.7679,  21.4220,  18.2725,  ..., -41.6681,  51.2597, -29.4324],\n",
            "        [-14.4533, -22.5586,  28.4398,  ..., -24.4492,  13.7066,  -6.7762],\n",
            "        [ 37.2378,  -3.2911,  14.7337,  ...,  13.8257,  -3.6179,  14.4139],\n",
            "        ...,\n",
            "        [ 35.0721, -14.6565,  44.9545,  ..., -23.7133, -60.9498, -21.7327],\n",
            "        [-26.0620,  -0.7874,   9.0564,  ...,  10.5281,   8.5398,  -3.3785],\n",
            "        [ 18.9419, -12.4708,   0.5580,  ...,  30.8842, -27.0412,  33.7688]],\n",
            "       device='cuda:0')\n",
            "\n",
            "CPU Matrix Output: tensor([[-25.7679,  21.4220,  18.2725,  ..., -41.6681,  51.2597, -29.4324],\n",
            "        [-14.4533, -22.5586,  28.4398,  ..., -24.4492,  13.7066,  -6.7762],\n",
            "        [ 37.2378,  -3.2910,  14.7337,  ...,  13.8257,  -3.6179,  14.4140],\n",
            "        ...,\n",
            "        [ 35.0721, -14.6565,  44.9544,  ..., -23.7133, -60.9498, -21.7327],\n",
            "        [-26.0620,  -0.7874,   9.0564,  ...,  10.5281,   8.5398,  -3.3785],\n",
            "        [ 18.9419, -12.4708,   0.5580,  ...,  30.8841, -27.0412,  33.7688]])\n",
            "\n"
          ],
          "name": "stdout"
        }
      ]
    },
    {
      "cell_type": "markdown",
      "metadata": {
        "id": "LZJXmfT-yU3g"
      },
      "source": [
        "## Question 2 - grad\n",
        "\n",
        "\n",
        "Find the gradient (partial derivatives) of the function $g(w)$ below. \n",
        "\n",
        "Let  $w=[w_1,w_2]^T$\n",
        "\n",
        "Consider  $g(w)=2w_1w_2+w_2cos(w_1)$\n",
        "\n",
        "a) In PyTorch, compute:   $\\nabla g(w)$ \n",
        "\n",
        " and verify that $\\nabla g([\\pi,1])=[2,2\\pi−1]^T$ using the grad function, whereby the first position is the partial for $w_1$ and the second position is the partial for $w_2$. \n",
        "\n",
        "b) You can also write a function to manually calculate these partial derivatives! You can review your differential equations math at [here](https://www.wolframalpha.com/input/?i=derivative+y+cos%28x%29) and implement this is a second function below to verify that it comes to the same solution. \n"
      ]
    },
    {
      "cell_type": "code",
      "metadata": {
        "id": "pLjz6_LKt4sc",
        "colab": {
          "base_uri": "https://localhost:8080/"
        },
        "outputId": "11dbd540-6d7f-4af0-dfd1-e9527c8938cb"
      },
      "source": [
        "import math\n",
        "\n",
        "def g(w):\n",
        "  return 2*w[0]*w[1] + w[1]*torch.cos(w[0])\n",
        "\n",
        "\n",
        "w = torch.tensor([math.pi,1], requires_grad=True)\n",
        "w_manual = torch.tensor([2,2*math.pi - 1])\n",
        "G = g(w)\n",
        "G.backward()\n",
        "\n",
        "print(f'Part a: {w.grad}')\n",
        "print(f'Part b: After derivative: {w_manual}')"
      ],
      "execution_count": 7,
      "outputs": [
        {
          "output_type": "stream",
          "text": [
            "Part a: tensor([2.0000, 5.2832])\n",
            "Part b: After derivative: tensor([2.0000, 5.2832])\n"
          ],
          "name": "stdout"
        }
      ]
    },
    {
      "cell_type": "markdown",
      "metadata": {
        "id": "rJwP6ur8LKjD"
      },
      "source": [
        "## Question 3 - dance hit song prediction\n",
        "\n",
        "Implement logistic regression in PyTorch for the following dance hit song prediction training dataset: \n",
        "https://dorax.s3.ap-south-1.amazonaws.com/herremans_hit_1030training.csv\n",
        "\n",
        " * Input variables: a number of audio features (most already standardized so don't worry about that)\n",
        " * Target variable: Topclass1030: \n",
        "   * 1 means it was a top 10 hit song; \n",
        "   * 0 means it never went above top 30 position.\n",
        "\n",
        "This dataset is derived from my paper on dance hit song prediction, for full description of features have a look at https://arxiv.org/abs/1905.08076. \n",
        "\n",
        "Print the evolution of the loss every few epochs and train the model until it converges. \n",
        " \n",
        " After training the logistic regression model, calculate the prediction accuracy on the test set: \n",
        " https://dorax.s3.ap-south-1.amazonaws.com/herremans_hit_1030test.csv\n",
        "\n",
        "\n",
        "\n",
        "\n",
        "\n",
        "\n"
      ]
    },
    {
      "cell_type": "code",
      "metadata": {
        "colab": {
          "base_uri": "https://localhost:8080/"
        },
        "id": "eCapGyc6-mH0",
        "outputId": "1d9ec202-7153-4cab-cb7c-03ec239e430c"
      },
      "source": [
        "!wget https://dorax.s3.ap-south-1.amazonaws.com/herremans_hit_1030training.csv\n",
        "!wget https://dorax.s3.ap-south-1.amazonaws.com/herremans_hit_1030test.csv"
      ],
      "execution_count": 8,
      "outputs": [
        {
          "output_type": "stream",
          "text": [
            "--2021-06-22 17:27:19--  https://dorax.s3.ap-south-1.amazonaws.com/herremans_hit_1030training.csv\n",
            "Resolving dorax.s3.ap-south-1.amazonaws.com (dorax.s3.ap-south-1.amazonaws.com)... 52.219.158.2\n",
            "Connecting to dorax.s3.ap-south-1.amazonaws.com (dorax.s3.ap-south-1.amazonaws.com)|52.219.158.2|:443... connected.\n",
            "HTTP request sent, awaiting response... 200 OK\n",
            "Length: 147372 (144K) [text/csv]\n",
            "Saving to: ‘herremans_hit_1030training.csv’\n",
            "\n",
            "herremans_hit_1030t 100%[===================>] 143.92K   203KB/s    in 0.7s    \n",
            "\n",
            "2021-06-22 17:27:21 (203 KB/s) - ‘herremans_hit_1030training.csv’ saved [147372/147372]\n",
            "\n",
            "--2021-06-22 17:27:21--  https://dorax.s3.ap-south-1.amazonaws.com/herremans_hit_1030test.csv\n",
            "Resolving dorax.s3.ap-south-1.amazonaws.com (dorax.s3.ap-south-1.amazonaws.com)... 52.219.158.2\n",
            "Connecting to dorax.s3.ap-south-1.amazonaws.com (dorax.s3.ap-south-1.amazonaws.com)|52.219.158.2|:443... connected.\n",
            "HTTP request sent, awaiting response... 200 OK\n",
            "Length: 36712 (36K) [text/csv]\n",
            "Saving to: ‘herremans_hit_1030test.csv’\n",
            "\n",
            "herremans_hit_1030t 100%[===================>]  35.85K   152KB/s    in 0.2s    \n",
            "\n",
            "2021-06-22 17:27:22 (152 KB/s) - ‘herremans_hit_1030test.csv’ saved [36712/36712]\n",
            "\n"
          ],
          "name": "stdout"
        }
      ]
    },
    {
      "cell_type": "code",
      "metadata": {
        "id": "VyRP6bl8t4Wc",
        "colab": {
          "base_uri": "https://localhost:8080/"
        },
        "outputId": "71d70c38-f076-40fd-97d6-cadcb39e9fd0"
      },
      "source": [
        "# Your code here\n",
        "import pandas as pd\n",
        "import numpy as np\n",
        "import torch\n",
        "import torch.nn.functional as F\n",
        "\n",
        "# load data\n",
        "train_pd = pd.read_csv('./herremans_hit_1030training.csv')\n",
        "labels = train_pd.iloc[:,-1]\n",
        "features = train_pd.loc[:, 'timesignature':'T12kurtosis']\n",
        "\n",
        "labels = torch.Tensor(labels.values).reshape(321,1)\n",
        "features = torch.Tensor(features.values)\n",
        "\n",
        "# define logistic regression model\n",
        "class LogisticRegression(torch.nn.Module):\n",
        "    def __init__(self, input_dim, output_dim):\n",
        "        super(LogisticRegression, self).__init__()\n",
        "        self.linear = torch.nn.Linear(input_dim, output_dim)\n",
        "\n",
        "    def forward(self, x):\n",
        "        y_pred = F.sigmoid(self.linear(x))\n",
        "        return y_pred\n",
        "\n",
        "\n",
        "\n",
        "# train model\n",
        "input_dim = features.size(1)\n",
        "output_dim = 1\n",
        "num_of_data = features.size(0)\n",
        "epochs = 100\n",
        "lr_rate = 0.1\n",
        "criterion = torch.nn.MSELoss()\n",
        "\n",
        "model = LogisticRegression(input_dim,1)\n",
        "\n",
        "optimizer = torch.optim.SGD(model.parameters(), lr=lr_rate)\n",
        "\n",
        "for i in range(epochs):\n",
        "    model.train()\n",
        "    optimizer.zero_grad()\n",
        "    \n",
        "    # Forward Pass\n",
        "    y_pred = model(features)\n",
        "\n",
        "    # Compute Loss\n",
        "    loss = criterion(y_pred, labels)\n",
        "\n",
        "    # Backward pass\n",
        "    loss.backward()\n",
        "    optimizer.step()\n",
        "\n",
        "    if i % 10 == 0:\n",
        "        print(f\"Epoch - {i} , Loss - {loss.item()}\")\n"
      ],
      "execution_count": 9,
      "outputs": [
        {
          "output_type": "stream",
          "text": [
            "Epoch - 0 , Loss - 0.24449601769447327\n",
            "Epoch - 10 , Loss - 0.21410484611988068\n",
            "Epoch - 20 , Loss - 0.20684470236301422\n",
            "Epoch - 30 , Loss - 0.20162296295166016\n",
            "Epoch - 40 , Loss - 0.19755028188228607\n",
            "Epoch - 50 , Loss - 0.19428591430187225\n",
            "Epoch - 60 , Loss - 0.19160622358322144\n",
            "Epoch - 70 , Loss - 0.1893606334924698\n",
            "Epoch - 80 , Loss - 0.18744580447673798\n",
            "Epoch - 90 , Loss - 0.18578925728797913\n"
          ],
          "name": "stdout"
        },
        {
          "output_type": "stream",
          "text": [
            "/usr/local/lib/python3.7/dist-packages/torch/nn/functional.py:1805: UserWarning: nn.functional.sigmoid is deprecated. Use torch.sigmoid instead.\n",
            "  warnings.warn(\"nn.functional.sigmoid is deprecated. Use torch.sigmoid instead.\")\n"
          ],
          "name": "stderr"
        }
      ]
    },
    {
      "cell_type": "markdown",
      "metadata": {
        "id": "vw4yfGoGuChe"
      },
      "source": [
        "Run the below code to test the accuracy of your model on the training set: "
      ]
    },
    {
      "cell_type": "code",
      "metadata": {
        "id": "L88WmKtMt5gH",
        "colab": {
          "base_uri": "https://localhost:8080/"
        },
        "outputId": "c8d5d9fe-f7a4-472e-9f70-78b6b4dfe9a0"
      },
      "source": [
        "test = pd.read_csv('./herremans_hit_1030test.csv')\n",
        "labels = test.iloc[:,-1]\n",
        "test = test.drop('Topclass1030', axis=1)\n",
        "testdata = torch.Tensor(test.values)\n",
        "testlabels = torch.Tensor(labels.values).view(-1,1)\n",
        "\n",
        "TP = 0\n",
        "TN = 0\n",
        "FN = 0\n",
        "FP = 0\n",
        "\n",
        "for i in range(0, testdata.size()[0]): \n",
        "  # print(testdata[i].size())\n",
        "  Xtest = torch.Tensor(testdata[i])\n",
        "  y_hat = model(Xtest)\n",
        "  \n",
        "  if y_hat > 0.5:\n",
        "    prediction = 1\n",
        "  else: \n",
        "    prediction = 0\n",
        "\n",
        "  if (prediction == testlabels[i]):\n",
        "    if (prediction == 1):\n",
        "      TP += 1\n",
        "    else: \n",
        "      TN += 1\n",
        "\n",
        "  else:\n",
        "    if (prediction == 1):\n",
        "      FP += 1\n",
        "    else: \n",
        "      FN += 1\n",
        "\n",
        "print(\"True Positives: {0}, True Negatives: {1}\".format(TP, TN))\n",
        "print(\"False Positives: {0}, False Negatives: {1}\".format(FP, FN))\n",
        "rate = TP/(FN+TP)\n",
        "print(\"Class specific accuracy of correctly predicting a hit song is {0}\".format(rate))"
      ],
      "execution_count": 10,
      "outputs": [
        {
          "output_type": "stream",
          "text": [
            "True Positives: 45, True Negatives: 13\n",
            "False Positives: 16, False Negatives: 5\n",
            "Class specific accuracy of correctly predicting a hit song is 0.9\n"
          ],
          "name": "stdout"
        },
        {
          "output_type": "stream",
          "text": [
            "/usr/local/lib/python3.7/dist-packages/torch/nn/functional.py:1805: UserWarning: nn.functional.sigmoid is deprecated. Use torch.sigmoid instead.\n",
            "  warnings.warn(\"nn.functional.sigmoid is deprecated. Use torch.sigmoid instead.\")\n"
          ],
          "name": "stderr"
        }
      ]
    },
    {
      "cell_type": "code",
      "metadata": {
        "id": "0XEF3myumriZ"
      },
      "source": [
        ""
      ],
      "execution_count": 10,
      "outputs": []
    }
  ]
}